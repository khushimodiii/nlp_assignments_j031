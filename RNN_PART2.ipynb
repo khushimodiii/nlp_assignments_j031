{
  "nbformat": 4,
  "nbformat_minor": 0,
  "metadata": {
    "colab": {
      "provenance": []
    },
    "kernelspec": {
      "name": "python3",
      "display_name": "Python 3"
    },
    "language_info": {
      "name": "python"
    }
  },
  "cells": [
    {
      "cell_type": "code",
      "execution_count": null,
      "metadata": {
        "id": "BMwxurRuQ8pH"
      },
      "outputs": [],
      "source": []
    },
    {
      "cell_type": "code",
      "metadata": {
        "colab": {
          "base_uri": "https://localhost:8080/"
        },
        "id": "bd61f21d",
        "outputId": "0d5b75e3-66f6-478d-d175-56be19fa53dc"
      },
      "source": [
        "import re\n",
        "\n",
        "def extract_and_format_date(text):\n",
        "  \"\"\"\n",
        "  Extracts date information (day, month, year) from text using regex\n",
        "  and formats it as DD/MM/YYYY.\n",
        "\n",
        "  Args:\n",
        "    text: The input string containing the date.\n",
        "\n",
        "  Returns:\n",
        "    A string with the date in DD/MM/YYYY format, or None if no date is found.\n",
        "  \"\"\"\n",
        "  # Regex to find day, month, and year in various formats\n",
        "  # Covers formats like \"21st June, 2024\", \"June 21, 2024\", \"21 June 2024\", etc.\n",
        "  # Groups: 1: day, 2: month (name or number), 3: year\n",
        "  date_pattern = re.compile(r'(?:\\b(\\d{1,2})(?:st|nd|rd|th)?\\s+)?(?:(January|February|March|April|May|June|July|August|September|October|November|December|\\d{1,2})[\\s,\\.]*?)?\\s*(\\d{4})\\b', re.IGNORECASE)\n",
        "\n",
        "  match = date_pattern.search(text)\n",
        "\n",
        "  if match:\n",
        "    day, month, year = match.groups()\n",
        "\n",
        "    # Handle cases where day or month might be missing in the regex match\n",
        "    # If day is none, try to find it separately if a month and year were found\n",
        "    if not day and month and year:\n",
        "        day_match = re.search(r'\\b(\\d{1,2})(?:st|nd|rd|th)?\\b', text)\n",
        "        if day_match:\n",
        "            day = day_match.group(1)\n",
        "\n",
        "    # Convert month name to number\n",
        "    if month and not month.isdigit():\n",
        "      month_dict = {\n",
        "          'january': '01', 'february': '02', 'march': '03', 'april': '04',\n",
        "          'may': '05', 'june': '06', 'july': '07', 'august': '08',\n",
        "          'september': '09', 'october': '10', 'november': '11', 'december': '12'\n",
        "      }\n",
        "      month = month_dict.get(month.lower())\n",
        "\n",
        "    # Ensure day and month are two digits\n",
        "    if day:\n",
        "        day = day.zfill(2)\n",
        "    if month:\n",
        "        month = month.zfill(2)\n",
        "\n",
        "\n",
        "    if day and month and year:\n",
        "        return f\"{day}/{month}/{year}\"\n",
        "    elif month and year: # Handle cases like \"June, 2024\" - we can't get a specific date\n",
        "        return f\"Could not determine a specific day for {month}/{year}\"\n",
        "    elif year: # Handle cases where only year is found\n",
        "        return f\"Could not determine a specific date, found year: {year}\"\n",
        "\n",
        "\n",
        "  return \"No date found in the text.\"\n",
        "\n",
        "# Example usage:\n",
        "text1 = \"I went to London on 21st June, 2024\"\n",
        "text2 = \"My birthday is December 15, 1990.\"\n",
        "text3 = \"The event will be held on August 5th 2025.\"\n",
        "text4 = \"The project deadline is 2023.\"\n",
        "text5 = \"See you in January, 2026.\"\n",
        "text6 = \"No date here.\"\n",
        "text7 = \"The meeting is on 7th of March, 2023.\"\n",
        "\n",
        "print(f\"'{text1}' -> {extract_and_format_date(text1)}\")\n",
        "print(f\"'{text2}' -> {extract_and_format_date(text2)}\")\n",
        "print(f\"'{text3}' -> {extract_and_format_date(text3)}\")\n",
        "print(f\"'{text4}' -> {extract_and_format_date(text4)}\")\n",
        "print(f\"'{text5}' -> {extract_and_format_date(text5)}\")\n",
        "print(f\"'{text6}' -> {extract_and_format_date(text6)}\")\n",
        "print(f\"'{text7}' -> {extract_and_format_date(text7)}\")"
      ],
      "execution_count": 2,
      "outputs": [
        {
          "output_type": "stream",
          "name": "stdout",
          "text": [
            "'I went to London on 21st June, 2024' -> 21/06/2024\n",
            "'My birthday is December 15, 1990.' -> 15/15/1990\n",
            "'The event will be held on August 5th 2025.' -> Could not determine a specific date, found year: 2025\n",
            "'The project deadline is 2023.' -> Could not determine a specific date, found year: 2023\n",
            "'See you in January, 2026.' -> Could not determine a specific day for 01/2026\n",
            "'No date here.' -> No date found in the text.\n",
            "'The meeting is on 7th of March, 2023.' -> 07/03/2023\n"
          ]
        }
      ]
    }
  ]
}